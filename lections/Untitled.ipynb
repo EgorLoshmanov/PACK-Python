{
 "cells": [
  {
   "cell_type": "markdown",
   "id": "0f6f9949-fd72-4088-8f52-1b88484a965a",
   "metadata": {},
   "source": [
    "*Создание класса*"
   ]
  },
  {
   "cell_type": "code",
   "execution_count": 1,
   "id": "d9ffb948-0eed-4e60-87d6-b1ed95cf8cf7",
   "metadata": {},
   "outputs": [],
   "source": [
    "class MyClass:\n",
    "    val = 2  # Свойство класса\n",
    "\n",
    "    def mult(self, x):  # Методы класса\n",
    "        return self.val * x\n",
    "\n",
    "    def power(self, x):\n",
    "        return x ** self.val"
   ]
  },
  {
   "cell_type": "code",
   "execution_count": 3,
   "id": "d2968af4-4278-4921-bd96-fc88266237e6",
   "metadata": {},
   "outputs": [
    {
     "name": "stdout",
     "output_type": "stream",
     "text": [
      "2\n",
      "6\n",
      "9\n"
     ]
    }
   ],
   "source": [
    "elem = MyClass()\n",
    "print(elem.val)\n",
    "print(elem.mult(3))\n",
    "print(elem.power(3))"
   ]
  },
  {
   "cell_type": "code",
   "execution_count": 4,
   "id": "3f3e9aab-a9a5-44e4-a2b6-294e0a598551",
   "metadata": {},
   "outputs": [
    {
     "name": "stdout",
     "output_type": "stream",
     "text": [
      "<class '__main__.MyClass'>\n"
     ]
    }
   ],
   "source": [
    "print(type(elem))"
   ]
  },
  {
   "cell_type": "code",
   "execution_count": 5,
   "id": "6e5778ba-0b61-4345-9c75-0182a75a9e72",
   "metadata": {},
   "outputs": [
    {
     "name": "stdout",
     "output_type": "stream",
     "text": [
      "4\n",
      "12\n",
      "81\n"
     ]
    }
   ],
   "source": [
    "elem.val = 4\n",
    "print(elem.val)\n",
    "print(elem.mult(3))\n",
    "print(elem.power(3))"
   ]
  },
  {
   "cell_type": "markdown",
   "id": "50943fde-eb78-4214-9022-cad7b9e6452d",
   "metadata": {},
   "source": [
    "*Конструкторы и деструкторы*"
   ]
  },
  {
   "cell_type": "code",
   "execution_count": 11,
   "id": "28ad5344-79c9-4b13-af6c-a6c9610f7c75",
   "metadata": {},
   "outputs": [],
   "source": [
    "class MyClass:\n",
    "    def __init__(self):\n",
    "        \"\"\"\n",
    "        Конструктор класса. Выполняется при создании экземпляра класса\n",
    "        Обычно все свойста определяются в конструкторе\n",
    "        \"\"\"\n",
    "        print(\"Initialize\")\n",
    "        self.val = 2 #  Свойство класса\n",
    "\n",
    "    def mult(self, x):  # Метод класса\n",
    "        return self.val * x\n",
    "\n",
    "    def __del__(self):\n",
    "        \"\"\"\n",
    "        Деструктор класса. Выполняется при удалении экземпляра класса\n",
    "         \"\"\"\n",
    "        print(\"Delete\")"
   ]
  },
  {
   "cell_type": "code",
   "execution_count": 12,
   "id": "f1d0bf90-59b8-4b6c-85ee-e8892d8b8c7c",
   "metadata": {},
   "outputs": [
    {
     "name": "stdout",
     "output_type": "stream",
     "text": [
      "Initialize\n",
      "2\n",
      "Delete\n"
     ]
    }
   ],
   "source": [
    "elem = MyClass()\n",
    "print(elem.val)\n",
    "del elem"
   ]
  },
  {
   "cell_type": "markdown",
   "id": "024440c8-328c-42d5-9040-db596bd4b94d",
   "metadata": {},
   "source": [
    "*Инкапсуляция*"
   ]
  },
  {
   "cell_type": "code",
   "execution_count": 13,
   "id": "026b9f2e-8bee-4f4a-ad6b-80b5ca36ae4d",
   "metadata": {},
   "outputs": [],
   "source": [
    "class MyClass:\n",
    "    def __init__(self):\n",
    "        self._val = 3  # Приватное свойство класса\n",
    "        self.__priv_val = 8  # Очень приватное свойство класса\n",
    "\n",
    "    def _factorial(self, x):  # Приватный метод класса\n",
    "        fact = 1\n",
    "        for i in range(1, x):\n",
    "            fact *= i\n",
    "        return fact\n",
    "\n",
    "    def mult(self, x):  # Метод класса\n",
    "        return self._val * self._factorial(x)\n",
    "    "
   ]
  },
  {
   "cell_type": "code",
   "execution_count": 23,
   "id": "003707ea-1096-4772-9374-7bc4200301fd",
   "metadata": {},
   "outputs": [
    {
     "name": "stdout",
     "output_type": "stream",
     "text": [
      "3\n",
      "72\n",
      "8\n"
     ]
    }
   ],
   "source": [
    "elem = MyClass()\n",
    "print(elem._val)  # Доступ к приватному свойству\n",
    "print(elem.mult(5))\n",
    "print(elem._MyClass__priv_val)  # Доступ к очень приватному свойству"
   ]
  },
  {
   "cell_type": "code",
   "execution_count": 24,
   "id": "8fcc692d-6fe0-4d09-8191-7e3a8b8535a4",
   "metadata": {},
   "outputs": [],
   "source": [
    "class Item:\n",
    "    def __init__(self, count=3, max_count=16):\n",
    "        self._count = count\n",
    "        self._max_count = 16\n",
    "        \n",
    "    def update_count(self, val):\n",
    "        if val <= self._max_count:\n",
    "            self.count = val\n",
    "            return True\n",
    "        else:\n",
    "            return False\n",
    "\n",
    "    @property \n",
    "    def count(self):\n",
    "        return self._count\n",
    "\n",
    "    @count.setter\n",
    "    def count(self, val):\n",
    "        self._count = val\n",
    "        if val <= self._max_count:\n",
    "            self._count = val\n",
    "        else:\n",
    "            pass\n",
    "\n",
    "    @staticmethod\n",
    "    def static():\n",
    "        print(\"I am function\")\n",
    "\n",
    "    @classmethod\n",
    "    def my_name(cls):\n",
    "        return csl__name__"
   ]
  },
  {
   "cell_type": "code",
   "execution_count": 27,
   "id": "a9aa80fa-fad6-40b5-a3cc-aaa71017c6cd",
   "metadata": {},
   "outputs": [
    {
     "name": "stdout",
     "output_type": "stream",
     "text": [
      "2\n",
      "True 8\n"
     ]
    }
   ],
   "source": [
    "item = Item(2)\n",
    "print(item.count)\n",
    "ret = item.update_count(8)\n",
    "print(ret, item.count)"
   ]
  },
  {
   "cell_type": "code",
   "execution_count": 29,
   "id": "0fd8f896-49cc-4b6a-a7f1-b4b67f4efb09",
   "metadata": {},
   "outputs": [
    {
     "name": "stdout",
     "output_type": "stream",
     "text": [
      "До вызова функции\n",
      "Я обычная функция\n",
      "После вызова функции\n"
     ]
    }
   ],
   "source": [
    "def decorator(func):\n",
    "    def wrapper():\n",
    "        print(\"До вызова функции\")\n",
    "        func()\n",
    "        print(\"После вызова функции\")\n",
    "    return wrapper\n",
    "\n",
    "def func():\n",
    "    print(\"Я обычная функция\")\n",
    "\n",
    "# Эквивалентно записи @decorator\n",
    "func = decorator(func)\n",
    "\n",
    "func()\n"
   ]
  },
  {
   "cell_type": "code",
   "execution_count": null,
   "id": "01a1b98b-773c-4c0f-85ce-f34b5ba8150e",
   "metadata": {},
   "outputs": [],
   "source": []
  }
 ],
 "metadata": {
  "kernelspec": {
   "display_name": "Python 3 (ipykernel)",
   "language": "python",
   "name": "python3"
  },
  "language_info": {
   "codemirror_mode": {
    "name": "ipython",
    "version": 3
   },
   "file_extension": ".py",
   "mimetype": "text/x-python",
   "name": "python",
   "nbconvert_exporter": "python",
   "pygments_lexer": "ipython3",
   "version": "3.13.7"
  }
 },
 "nbformat": 4,
 "nbformat_minor": 5
}
